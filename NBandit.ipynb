{
 "cells": [
  {
   "cell_type": "code",
   "execution_count": 1,
   "id": "69a222c9",
   "metadata": {},
   "outputs": [
    {
     "name": "stdout",
     "output_type": "stream",
     "text": [
      "Cumulative Reward: 5609\n",
      "Machine a - Average Reward: 4.490462676845325\n",
      "Machine b - Average Reward: 4.056164311633067\n",
      "Machine c - Average Reward: 4.980721605529396\n",
      "Machine d - Average Reward: 3.7538437867243926\n",
      "Machine e - Average Reward: 4.27077582609467\n"
     ]
    }
   ],
   "source": [
    "import random\n",
    "\n",
    "# Number of slot machines\n",
    "num_machines = 5\n",
    "\n",
    "# Number of trials\n",
    "num_trials = 1000\n",
    "\n",
    "# Initialize the slot machines with random reward distributions (numbers between 1 and 10)\n",
    "machines = [[random.randint(1, 10) for _ in range(num_trials)] for _ in range(num_machines)]\n",
    "\n",
    "# Initialize variables to keep track of cumulative reward and average reward for each machine\n",
    "cumulative_reward = 0\n",
    "average_rewards = [0] * num_machines\n",
    "\n",
    "# Simulate the trials\n",
    "for trial in range(num_trials):\n",
    "    # Choose a machine at random (exploration)\n",
    "    selected_machine = random.randint(0, num_machines - 1)\n",
    "    \n",
    "    # Get the reward for the selected machine for this trial\n",
    "    reward = machines[selected_machine][trial]\n",
    "    \n",
    "    # Update cumulative reward\n",
    "    cumulative_reward += reward\n",
    "    \n",
    "    # Update average reward for the selected machine\n",
    "    average_rewards[selected_machine] = (average_rewards[selected_machine] * trial + reward) / (trial + 1)\n",
    "\n",
    "# Print cumulative reward\n",
    "print(f\"Cumulative Reward: {cumulative_reward}\")\n",
    "\n",
    "# Print average reward for each machine\n",
    "for i, avg_reward in enumerate(average_rewards):\n",
    "    print(f\"Machine {chr(97 + i)} - Average Reward: {avg_reward}\")\n"
   ]
  },
  {
   "cell_type": "code",
   "execution_count": 1,
   "id": "b232fdd0",
   "metadata": {},
   "outputs": [
    {
     "name": "stdout",
     "output_type": "stream",
     "text": [
      "[4 3 5 7 2]\n",
      "Cumulative Reward: 4170.697871215794\n",
      "Slot Machine A = True Mean: 4, Average Reward: 4.17\n",
      "Slot Machine B = True Mean: 3, Average Reward: 4.17\n",
      "Slot Machine C = True Mean: 5, Average Reward: 4.17\n",
      "Slot Machine D = True Mean: 7, Average Reward: 4.17\n",
      "Slot Machine E = True Mean: 2, Average Reward: 4.17\n"
     ]
    }
   ],
   "source": [
    "import numpy as np\n",
    "\n",
    "slot_machine = 5\n",
    "trials = 1000\n",
    "mean = np.random.randint(1, 10, size=slot_machine)\n",
    "# Change the mean values so that the average reward of each machine is not equal\n",
    "mean[0] = 4\n",
    "mean[1] = 3\n",
    "mean[2] = 5\n",
    "mean[3] = 7\n",
    "mean[4] = 2\n",
    "print(mean)\n",
    "cumulative_reward = 0\n",
    "average_rewards = [0, 0, 0, 0, 0]\n",
    "for t in range(trials):\n",
    "    action = np.random.randint(slot_machine)\n",
    "    reward = np.random.normal(mean[action], 1)\n",
    "    cumulative_reward += reward\n",
    "    for slots in range(slot_machine):\n",
    "        average_rewards[slots] += (reward - average_rewards[slots]) / (t + 1)\n",
    "print(f\"Cumulative Reward: {cumulative_reward}\")\n",
    "for i in range(slot_machine):\n",
    "    print(f\"Slot Machine {chr(65+i)} = True Mean: {mean[i]}, Average Reward: {average_rewards[i]:.2f}\")\n"
   ]
  }
 ],
 "metadata": {
  "kernelspec": {
   "display_name": "Python 3 (ipykernel)",
   "language": "python",
   "name": "python3"
  },
  "language_info": {
   "codemirror_mode": {
    "name": "ipython",
    "version": 3
   },
   "file_extension": ".py",
   "mimetype": "text/x-python",
   "name": "python",
   "nbconvert_exporter": "python",
   "pygments_lexer": "ipython3",
   "version": "3.9.12"
  }
 },
 "nbformat": 4,
 "nbformat_minor": 5
}
