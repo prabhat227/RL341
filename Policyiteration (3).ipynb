{
 "cells": [
  {
   "cell_type": "code",
   "execution_count": null,
   "metadata": {
    "colab": {
     "base_uri": "https://localhost:8080/"
    },
    "id": "xpoySkd5c2Tj",
    "outputId": "30757f83-f449-4fda-ea6f-58ecf3460b3f"
   },
   "outputs": [
    {
     "name": "stdout",
     "output_type": "stream",
     "text": [
      "Optimal Policy:\n",
      "State 0: Action (0, 'A')\n",
      "State 1: Action (0, 'A')\n"
     ]
    }
   ],
   "source": [
    "import numpy as np\n",
    "\n",
    "transition_model = {\n",
    "    (0, 'A'): [(0, 10, 0.8), (1, -10, 0.2)],\n",
    "    (0, 'B'): [(1, 0, 1.0)],\n",
    "    (1, 'A'): [(0, 0, 1.0)],\n",
    "    (1, 'B'): [(1, 0, 1.0)]\n",
    "}\n",
    "policy = {\n",
    "    0: 'A',\n",
    "    1: 'A'\n",
    "}\n",
    "V = {0: 0, 1: 0}\n",
    "gamma = 0.9\n",
    "\n",
    "while True:\n",
    "    delta = 0\n",
    "    for state in V:\n",
    "        v = V[state]\n",
    "        new_v = 0\n",
    "        for next_state, reward, probability in transition_model.get((state, policy[state]), []):\n",
    "            new_v += probability * (reward + gamma * V[next_state])\n",
    "        V[state] = new_v\n",
    "        delta = max(delta, abs(v - new_v))\n",
    "    if delta < 1e-6:\n",
    "        break\n",
    "\n",
    "    policy_stable = True\n",
    "    for state in V:\n",
    "        old_action = policy[state]\n",
    "        action_values = {}\n",
    "        for action in transition_model.keys():\n",
    "            action_values[action] = 0\n",
    "            for next_state, reward, probability in transition_model.get((state, action), []):\n",
    "                action_values[action] += probability * (reward + gamma * V[next_state])\n",
    "        best_action = max(action_values, key=action_values.get)\n",
    "        policy[state] = best_action\n",
    "        if old_action != best_action:\n",
    "            policy_stable = False\n",
    "\n",
    "    if policy_stable:\n",
    "        break\n",
    "\n",
    "print(\"Optimal Policy:\")\n",
    "for state, action in policy.items():\n",
    "    print(f\"State {state}: Action {action}\")\n",
    "\n"
   ]
  }
 ],
 "metadata": {
  "colab": {
   "provenance": []
  },
  "kernelspec": {
   "display_name": "Python 3 (ipykernel)",
   "language": "python",
   "name": "python3"
  },
  "language_info": {
   "codemirror_mode": {
    "name": "ipython",
    "version": 3
   },
   "file_extension": ".py",
   "mimetype": "text/x-python",
   "name": "python",
   "nbconvert_exporter": "python",
   "pygments_lexer": "ipython3",
   "version": "3.9.12"
  }
 },
 "nbformat": 4,
 "nbformat_minor": 1
}
